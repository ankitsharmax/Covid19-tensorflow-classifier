{
  "nbformat": 4,
  "nbformat_minor": 0,
  "metadata": {
    "kernelspec": {
      "display_name": "Python 3",
      "language": "python",
      "name": "python3"
    },
    "language_info": {
      "codemirror_mode": {
        "name": "ipython",
        "version": 3
      },
      "file_extension": ".py",
      "mimetype": "text/x-python",
      "name": "python",
      "nbconvert_exporter": "python",
      "pygments_lexer": "ipython3",
      "version": "3.7.4"
    },
    "latex_envs": {
      "LaTeX_envs_menu_present": true,
      "autoclose": false,
      "autocomplete": true,
      "bibliofile": "biblio.bib",
      "cite_by": "apalike",
      "current_citInitial": 1,
      "eqLabelWithNumbers": true,
      "eqNumInitial": 1,
      "hotkeys": {
        "equation": "Ctrl-E",
        "itemize": "Ctrl-I"
      },
      "labels_anchors": false,
      "latex_user_defs": false,
      "report_style_numbering": false,
      "user_envs_cfg": false
    },
    "varInspector": {
      "cols": {
        "lenName": 16,
        "lenType": 16,
        "lenVar": 40
      },
      "kernels_config": {
        "python": {
          "delete_cmd_postfix": "",
          "delete_cmd_prefix": "del ",
          "library": "var_list.py",
          "varRefreshCmd": "print(var_dic_list())"
        },
        "r": {
          "delete_cmd_postfix": ") ",
          "delete_cmd_prefix": "rm(",
          "library": "var_list.r",
          "varRefreshCmd": "cat(var_dic_list()) "
        }
      },
      "types_to_exclude": [
        "module",
        "function",
        "builtin_function_or_method",
        "instance",
        "_Feature"
      ],
      "window_display": false
    },
    "colab": {
      "name": "covid19_detection_using_tensorflow_transfer_learning.ipynb",
      "provenance": [],
      "collapsed_sections": [],
      "toc_visible": true
    },
    "accelerator": "GPU"
  },
  "cells": [
    {
      "cell_type": "markdown",
      "metadata": {
        "id": "4xWZ3ihfWdMo"
      },
      "source": [
        "## Importing libraries"
      ]
    },
    {
      "cell_type": "code",
      "metadata": {
        "id": "Jvl7V48HWdMr"
      },
      "source": [
        "# Removing warnings\n",
        "import warnings\n",
        "warnings.filterwarnings('ignore')\n",
        "\n",
        "# Removing unwanted tensorflow logs\n",
        "import os\n",
        "os.environ['TF_CPP_MIN_LOG_LEVEL'] = '3'\n",
        "\n",
        "import zipfile\n",
        "import random\n",
        "from shutil import copyfile\n",
        "import numpy as np\n",
        "import pandas as pd\n",
        "import matplotlib.pyplot as plt\n",
        "import seaborn as sns\n",
        "import tensorflow as tf\n",
        "tf.__version__\n",
        "\n",
        "%matplotlib inline"
      ],
      "execution_count": null,
      "outputs": []
    },
    {
      "cell_type": "markdown",
      "metadata": {
        "id": "ltCmzjalWdMv"
      },
      "source": [
        "## Importing trianing data"
      ]
    },
    {
      "cell_type": "code",
      "metadata": {
        "id": "BqqgE7AFV88J"
      },
      "source": [
        "from google.colab import drive"
      ],
      "execution_count": null,
      "outputs": []
    },
    {
      "cell_type": "code",
      "metadata": {
        "colab": {
          "base_uri": "https://localhost:8080/"
        },
        "id": "Cznf_lv3V-Za",
        "outputId": "0bb6ca8e-5a50-491d-d53d-5562b92fee30"
      },
      "source": [
        "drive.mount('/content/gdrive')"
      ],
      "execution_count": null,
      "outputs": [
        {
          "output_type": "stream",
          "text": [
            "Mounted at /content/gdrive\n"
          ],
          "name": "stdout"
        }
      ]
    },
    {
      "cell_type": "markdown",
      "metadata": {
        "id": "wOX_4r8hV-Hs"
      },
      "source": [
        "#### Accessing Covid19 Data from drive"
      ]
    },
    {
      "cell_type": "code",
      "metadata": {
        "colab": {
          "base_uri": "https://localhost:8080/"
        },
        "id": "AzAb0GwZW_NU",
        "outputId": "5d21d049-05cf-44b5-c720-b387b34c196a"
      },
      "source": [
        "!pip install rarfile\n",
        "import rarfile"
      ],
      "execution_count": null,
      "outputs": [
        {
          "output_type": "stream",
          "text": [
            "Collecting rarfile\n",
            "  Downloading https://files.pythonhosted.org/packages/95/f4/c92fab227c7457e3b76a4096ccb655ded9deac869849cb03afbe55dfdc1e/rarfile-4.0-py3-none-any.whl\n",
            "Installing collected packages: rarfile\n",
            "Successfully installed rarfile-4.0\n"
          ],
          "name": "stdout"
        }
      ]
    },
    {
      "cell_type": "code",
      "metadata": {
        "colab": {
          "base_uri": "https://localhost:8080/"
        },
        "id": "YFtQlqQhWkmy",
        "outputId": "f65d38eb-3b74-4ad3-b170-32ed3d2218e3"
      },
      "source": [
        "!ls \"/content/gdrive/MyDrive/Colab Notebooks\""
      ],
      "execution_count": null,
      "outputs": [
        {
          "output_type": "stream",
          "text": [
            "'Copy of Coding Tutorial.ipynb'\n",
            "'Copy of Course 1 - Part 8 - Lesson 3 - Notebook.ipynb'\n",
            "'Copy of Course 1 - Part 8 - Lesson 4 - Notebook.ipynb'\n",
            "'Copy of Course 2 - Part 4 - Lesson 4 - Notebook.ipynb'\n",
            "'Copy of Device placement.ipynb'\n",
            "'Copy of Exercise_1_House_Prices_Question.ipynb'\n",
            "'Copy of Exercise2-Question.ipynb'\n",
            "'Copy of Exercise 4-Question.ipynb'\n",
            "'Copy of Exercise 6 - Question.ipynb'\n",
            "'Copy of Logs dictionary.ipynb'\n",
            "'Copy of Week 1 Programming Assignment.ipynb'\n",
            "'Copy of Week 2 Programming Assignment.ipynb'\n",
            "'Copy of Week 3 Programming Assignment (1).ipynb'\n",
            "'Copy of Week 3 Programming Assignment (2).ipynb'\n",
            "'Copy of Week 3 Programming Assignment.ipynb'\n",
            " covid19_detection_using_tensorflow.ipynb\n",
            " COVID_19.ipynb\n",
            "'COVID19 using pytorch chest x-rays.ipynb'\n",
            " COVID.rar\n",
            "'India_vs_World_COVID_19 - Copy.ipynb'\n",
            " India_vs_World_COVID_19.ipynb\n",
            "'Week 3 Coding Tutorial.ipynb'\n"
          ],
          "name": "stdout"
        }
      ]
    },
    {
      "cell_type": "code",
      "metadata": {
        "id": "eFUHdX5uWqii"
      },
      "source": [
        "rar_ref = rarfile.RarFile(\"/content/gdrive/MyDrive/Colab Notebooks/COVID.rar\")\n",
        "rar_ref.extractall(\"/tmp/COVID19\")\n",
        "rar_ref.close()"
      ],
      "execution_count": null,
      "outputs": []
    },
    {
      "cell_type": "code",
      "metadata": {
        "id": "_Ub1eDrNWdMv",
        "colab": {
          "base_uri": "https://localhost:8080/"
        },
        "outputId": "501640b6-8609-43d1-e8ac-05a25ee3641e"
      },
      "source": [
        "!ls \"/tmp/COVID19/COVID\""
      ],
      "execution_count": null,
      "outputs": [
        {
          "output_type": "stream",
          "text": [
            "test  train\n"
          ],
          "name": "stdout"
        }
      ]
    },
    {
      "cell_type": "markdown",
      "metadata": {
        "id": "FHW5Vq71a3ZE"
      },
      "source": [
        "#### Importing train data"
      ]
    },
    {
      "cell_type": "code",
      "metadata": {
        "id": "u4pVRKTrWdMy",
        "colab": {
          "base_uri": "https://localhost:8080/"
        },
        "outputId": "296a1d5a-9854-4cca-bec6-742e6f9d06dc"
      },
      "source": [
        "os.listdir('/tmp/COVID19/COVID/train')"
      ],
      "execution_count": null,
      "outputs": [
        {
          "output_type": "execute_result",
          "data": {
            "text/plain": [
              "['viral', 'normal', 'covid']"
            ]
          },
          "metadata": {
            "tags": []
          },
          "execution_count": 8
        }
      ]
    },
    {
      "cell_type": "code",
      "metadata": {
        "id": "a5ouBp7TWdM1",
        "colab": {
          "base_uri": "https://localhost:8080/"
        },
        "outputId": "c6a9a8ce-233d-47ee-b3ef-6cc07e81b3e7"
      },
      "source": [
        "training_covid_dir = \"/tmp/COVID19/COVID/train/covid/\"\n",
        "training_normal_dir = \"/tmp/COVID19/COVID/train/normal/\"\n",
        "training_viral_dir = \"/tmp/COVID19/COVID/train/viral/\"\n",
        "\n",
        "print(len(os.listdir(training_covid_dir)))\n",
        "print(len(os.listdir(training_normal_dir)))\n",
        "print(len(os.listdir(training_viral_dir)))"
      ],
      "execution_count": null,
      "outputs": [
        {
          "output_type": "stream",
          "text": [
            "189\n",
            "200\n",
            "200\n"
          ],
          "name": "stdout"
        }
      ]
    },
    {
      "cell_type": "markdown",
      "metadata": {
        "id": "TqefJR24WdM3"
      },
      "source": [
        "#### Importing test data"
      ]
    },
    {
      "cell_type": "code",
      "metadata": {
        "id": "KpZtPCgJWdM4",
        "colab": {
          "base_uri": "https://localhost:8080/"
        },
        "outputId": "c4780f04-d871-40c9-8ffb-aa4c072c5559"
      },
      "source": [
        "os.listdir('/tmp/COVID19/COVID/test')"
      ],
      "execution_count": null,
      "outputs": [
        {
          "output_type": "execute_result",
          "data": {
            "text/plain": [
              "['viral', 'normal', 'covid']"
            ]
          },
          "metadata": {
            "tags": []
          },
          "execution_count": 10
        }
      ]
    },
    {
      "cell_type": "code",
      "metadata": {
        "id": "_FeSRQPwWdM6",
        "colab": {
          "base_uri": "https://localhost:8080/"
        },
        "outputId": "f19ab919-efcc-40ac-af03-fd5ab23e3126"
      },
      "source": [
        "testing_covid_dir = \"/tmp/COVID19/COVID/test/covid/\"\n",
        "testing_normal_dir = \"/tmp/COVID19/COVID/test/normal/\"\n",
        "testing_viral_dir = \"/tmp/COVID19/COVID/test/viral/\"\n",
        "\n",
        "print(len(os.listdir(testing_covid_dir)))\n",
        "print(len(os.listdir(testing_normal_dir)))\n",
        "print(len(os.listdir(testing_viral_dir)))"
      ],
      "execution_count": null,
      "outputs": [
        {
          "output_type": "stream",
          "text": [
            "30\n",
            "30\n",
            "30\n"
          ],
          "name": "stdout"
        }
      ]
    },
    {
      "cell_type": "markdown",
      "metadata": {
        "id": "eN0TJGKxkxle"
      },
      "source": [
        "## Rescaling train and test data according to compatible size for our model"
      ]
    },
    {
      "cell_type": "markdown",
      "metadata": {
        "id": "dBdZ-U8ulqsi"
      },
      "source": [
        "Since we'll be using 2 different pretrained network both of them have different input sizes."
      ]
    },
    {
      "cell_type": "code",
      "metadata": {
        "id": "LZ8rxK92mFW6"
      },
      "source": [
        "from tensorflow.keras.preprocessing.image import ImageDataGenerator"
      ],
      "execution_count": null,
      "outputs": []
    },
    {
      "cell_type": "code",
      "metadata": {
        "id": "DSQ0sMd1wbTX"
      },
      "source": [
        "train_dir = '/tmp/COVID19/COVID/train'\n",
        "test_dir = '/tmp/COVID19/COVID/test'"
      ],
      "execution_count": null,
      "outputs": []
    },
    {
      "cell_type": "code",
      "metadata": {
        "id": "WakHnfvlaFMA"
      },
      "source": [
        "\n",
        "BATCH_SIZE = 6 #10,16,32\n",
        "LR = 3e-5\n",
        "EPOCHS = 20\n",
        "IMG_SIZE1 = 299\n",
        "IMG_SIZE2 = 331\n",
        "IMG_SIZE3 = 224"
      ],
      "execution_count": null,
      "outputs": []
    },
    {
      "cell_type": "code",
      "metadata": {
        "colab": {
          "base_uri": "https://localhost:8080/"
        },
        "id": "Q8mLE8x2mOzi",
        "outputId": "dd8babe2-f055-4ea5-8aa5-aafb5604a5da"
      },
      "source": [
        "train_datagen = ImageDataGenerator(rescale=1./255.,\n",
        "                                   rotation_range = 15,\n",
        "                                   fill_mode = 'nearest',\n",
        "                                   horizontal_flip=True)\n",
        "\n",
        "test_datagen = ImageDataGenerator(rescale=1./255.)\n",
        "\n",
        "train_generator = train_datagen.flow_from_directory(train_dir,batch_size=BATCH_SIZE,class_mode='categorical',target_size=(IMG_SIZE1,IMG_SIZE1))\n",
        "\n",
        "validation_generator = test_datagen.flow_from_directory(test_dir,batch_size=BATCH_SIZE,class_mode='categorical',target_size=(IMG_SIZE1,IMG_SIZE1))"
      ],
      "execution_count": null,
      "outputs": [
        {
          "output_type": "stream",
          "text": [
            "Found 589 images belonging to 3 classes.\n",
            "Found 90 images belonging to 3 classes.\n"
          ],
          "name": "stdout"
        }
      ]
    },
    {
      "cell_type": "code",
      "metadata": {
        "id": "Weg1eW3YOMrD"
      },
      "source": [
        "train_generator.class_indices"
      ],
      "execution_count": null,
      "outputs": []
    },
    {
      "cell_type": "markdown",
      "metadata": {
        "id": "pBhpXu5VWdM8"
      },
      "source": [
        "## Defining model structure"
      ]
    },
    {
      "cell_type": "markdown",
      "metadata": {
        "id": "pRIWcTo7enGl"
      },
      "source": [
        "### Transfer Learning setup"
      ]
    },
    {
      "cell_type": "markdown",
      "metadata": {
        "id": "jTGk_cTJemzZ"
      },
      "source": [
        "#### InceptionResNetV2"
      ]
    },
    {
      "cell_type": "code",
      "metadata": {
        "id": "JYhNBKJHgsc3"
      },
      "source": [
        "# Necessary libraries\n",
        "\n",
        "from tensorflow.keras.models import Sequential,Model\n",
        "from tensorflow.keras.layers import Conv2D, Dense, MaxPooling2D, Flatten, Dropout, BatchNormalization"
      ],
      "execution_count": null,
      "outputs": []
    },
    {
      "cell_type": "code",
      "metadata": {
        "id": "tZwzLNnZemok"
      },
      "source": [
        "from tensorflow.keras.applications import InceptionResNetV2"
      ],
      "execution_count": null,
      "outputs": []
    },
    {
      "cell_type": "code",
      "metadata": {
        "id": "7RvcnpnJemaf"
      },
      "source": [
        "def incepResNetV2():\n",
        "  InceptionResNetV2_base_model = InceptionResNetV2(include_top=False,weights='imagenet',input_shape=(299,299,3))\n",
        "  # InceptionResNetV2_base_model.summary()\n",
        "  #### LAST LAYER: conv_7b_ac (Activation)         (None, 8, 8, 1536)   0           conv_7b_bn[0][0]\n",
        "  output = InceptionResNetV2_base_model.layers[-1].output\n",
        "  output = Flatten()(output)\n",
        "  \n",
        "  model = Model(InceptionResNetV2_base_model.input,outputs=output)\n",
        "\n",
        "  for layer in InceptionResNetV2_base_model.layers:\n",
        "    layer.trainable = False\n",
        "\n",
        "  return model"
      ],
      "execution_count": null,
      "outputs": []
    },
    {
      "cell_type": "markdown",
      "metadata": {
        "id": "QC7TiO6Ejgss"
      },
      "source": [
        "#### NASNetLarge"
      ]
    },
    {
      "cell_type": "code",
      "metadata": {
        "id": "qenY0lLPhNNX"
      },
      "source": [
        "from tensorflow.keras.applications import NASNetLarge"
      ],
      "execution_count": null,
      "outputs": []
    },
    {
      "cell_type": "code",
      "metadata": {
        "id": "f133apa-WdM9"
      },
      "source": [
        "def NASNetLarge_model():\n",
        "  NASNetLarge_base_model = NASNetLarge(include_top=False, weights='imagenet',input_shape=(331, 331, 3))\n",
        "\n",
        "  #### LAST LAYER Shape : (To be filled)\n",
        "\n",
        "  output = NASNetLarge_base_model.layers[-1].output\n",
        "  output = Flatten()(output)\n",
        "\n",
        "  model = Model(NASNetLarge_base_model.input,outputs=output)\n",
        "\n",
        "  for layer in NASNetLarge_base_model.layers:\n",
        "    layer.trainable = False\n",
        "\n",
        "  return model"
      ],
      "execution_count": null,
      "outputs": []
    },
    {
      "cell_type": "markdown",
      "metadata": {
        "id": "I2G0YLmQWdNA"
      },
      "source": [
        "#### Intergrating Transfer Learing model structure"
      ]
    },
    {
      "cell_type": "code",
      "metadata": {
        "colab": {
          "base_uri": "https://localhost:8080/"
        },
        "id": "XpErZFBpjssy",
        "outputId": "bb7c7a4e-6ff6-4eb8-98b7-78915ba3a219"
      },
      "source": [
        "covid_model = Sequential()\n",
        "covid_model.add(incepResNetV2())\n",
        "covid_model.add(Dropout(0.3))\n",
        "covid_model.add(Dense(512,activation='relu'))\n",
        "covid_model.add(Dropout(0.3))\n",
        "covid_model.add(Dense(64,activation='relu'))\n",
        "covid_model.add(Dense(3,activation='softmax'))\n",
        "\n",
        "covid_model.summary()"
      ],
      "execution_count": null,
      "outputs": [
        {
          "output_type": "stream",
          "text": [
            "Model: \"sequential_1\"\n",
            "_________________________________________________________________\n",
            "Layer (type)                 Output Shape              Param #   \n",
            "=================================================================\n",
            "functional_3 (Functional)    (None, 98304)             54336736  \n",
            "_________________________________________________________________\n",
            "dropout_2 (Dropout)          (None, 98304)             0         \n",
            "_________________________________________________________________\n",
            "dense_3 (Dense)              (None, 512)               50332160  \n",
            "_________________________________________________________________\n",
            "dropout_3 (Dropout)          (None, 512)               0         \n",
            "_________________________________________________________________\n",
            "dense_4 (Dense)              (None, 64)                32832     \n",
            "_________________________________________________________________\n",
            "dense_5 (Dense)              (None, 3)                 195       \n",
            "=================================================================\n",
            "Total params: 104,701,923\n",
            "Trainable params: 50,365,187\n",
            "Non-trainable params: 54,336,736\n",
            "_________________________________________________________________\n"
          ],
          "name": "stdout"
        }
      ]
    },
    {
      "cell_type": "markdown",
      "metadata": {
        "id": "Pk94MriLkTCz"
      },
      "source": [
        "## Model Training"
      ]
    },
    {
      "cell_type": "code",
      "metadata": {
        "colab": {
          "base_uri": "https://localhost:8080/"
        },
        "id": "M9fb50mKzYhd",
        "outputId": "fe50dc19-f6e1-4fe3-d953-6703c3b5e6db"
      },
      "source": [
        "from tensorflow.keras.optimizers import Adam\n",
        "\n",
        "OPTIMIZER = Adam(lr = LR)\n",
        "\n",
        "callback = tf.keras.callbacks.EarlyStopping(monitor='val_accuracy', patience=4,mode='auto') # patience = 5\n",
        "\n",
        "covid_model.compile(loss='categorical_crossentropy',optimizer=OPTIMIZER,metrics=['accuracy'])\n",
        "\n",
        "history = covid_model.fit(train_generator,validation_data=validation_generator,epochs=EPOCHS,\n",
        "                          callbacks=[callback])\n",
        "                                    #steps_per_epoch=(589*0.75)//BATCH_SIZE,\n",
        "                                    #validation_steps=(589*0.25)//BATCH_SIZE)\n",
        "                            \n",
        "covid_model.save_weights(\"/tmp/covid_model.h5\")"
      ],
      "execution_count": null,
      "outputs": [
        {
          "output_type": "stream",
          "text": [
            "Epoch 1/20\n",
            "99/99 [==============================] - 28s 279ms/step - loss: 0.5663 - accuracy: 0.8081 - val_loss: 0.2062 - val_accuracy: 0.9444\n",
            "Epoch 2/20\n",
            "99/99 [==============================] - 25s 251ms/step - loss: 0.2248 - accuracy: 0.9202 - val_loss: 0.2450 - val_accuracy: 0.9444\n",
            "Epoch 3/20\n",
            "99/99 [==============================] - 25s 255ms/step - loss: 0.1916 - accuracy: 0.9372 - val_loss: 0.1883 - val_accuracy: 0.9556\n",
            "Epoch 4/20\n",
            "99/99 [==============================] - 25s 254ms/step - loss: 0.1484 - accuracy: 0.9440 - val_loss: 0.2045 - val_accuracy: 0.9333\n",
            "Epoch 5/20\n",
            "99/99 [==============================] - 25s 254ms/step - loss: 0.1587 - accuracy: 0.9338 - val_loss: 0.2130 - val_accuracy: 0.9444\n",
            "Epoch 6/20\n",
            "99/99 [==============================] - 25s 254ms/step - loss: 0.1328 - accuracy: 0.9559 - val_loss: 0.2346 - val_accuracy: 0.9333\n",
            "Epoch 7/20\n",
            "99/99 [==============================] - 25s 255ms/step - loss: 0.1120 - accuracy: 0.9508 - val_loss: 0.1741 - val_accuracy: 0.9556\n"
          ],
          "name": "stdout"
        }
      ]
    },
    {
      "cell_type": "code",
      "metadata": {
        "id": "YzI2ocAoUQ6u"
      },
      "source": [
        "covid_model.save_weights(\"/tmp/covid_model.h5\")"
      ],
      "execution_count": null,
      "outputs": []
    },
    {
      "cell_type": "code",
      "metadata": {
        "colab": {
          "base_uri": "https://localhost:8080/"
        },
        "id": "Gp7TE4geWHsq",
        "outputId": "123e1238-71d3-4d40-d76b-31d88b3de1cd"
      },
      "source": [
        "!ls \"/tmp/COVID19/COVID/test/viral/\""
      ],
      "execution_count": null,
      "outputs": [
        {
          "output_type": "stream",
          "text": [
            "'Viral Pneumonia (1024).png'  'Viral Pneumonia (268).png'\n",
            "'Viral Pneumonia (1079).png'  'Viral Pneumonia (369).png'\n",
            "'Viral Pneumonia (1121).png'  'Viral Pneumonia (388).png'\n",
            "'Viral Pneumonia (117).png'   'Viral Pneumonia (434).png'\n",
            "'Viral Pneumonia (119).png'   'Viral Pneumonia (503).png'\n",
            "'Viral Pneumonia (1220).png'  'Viral Pneumonia (521).png'\n",
            "'Viral Pneumonia (1240).png'  'Viral Pneumonia (566).png'\n",
            "'Viral Pneumonia (124).png'   'Viral Pneumonia (57).png'\n",
            "'Viral Pneumonia (1253).png'  'Viral Pneumonia (686).png'\n",
            "'Viral Pneumonia (1269).png'  'Viral Pneumonia (687).png'\n",
            "'Viral Pneumonia (1288).png'  'Viral Pneumonia (918).png'\n",
            "'Viral Pneumonia (1309).png'  'Viral Pneumonia (926).png'\n",
            "'Viral Pneumonia (148).png'   'Viral Pneumonia (954).png'\n",
            "'Viral Pneumonia (203).png'   'Viral Pneumonia (975).png'\n",
            "'Viral Pneumonia (267).png'   'Viral Pneumonia (984).png'\n"
          ],
          "name": "stdout"
        }
      ]
    },
    {
      "cell_type": "code",
      "metadata": {
        "id": "c4_G6pDYWHXa"
      },
      "source": [
        "testing_covid_img = \"/tmp/COVID19/COVID/test/viral/Viral Pneumonia (57).png\""
      ],
      "execution_count": null,
      "outputs": []
    },
    {
      "cell_type": "code",
      "metadata": {
        "colab": {
          "base_uri": "https://localhost:8080/",
          "height": 286
        },
        "id": "j7nppw6rWGYk",
        "outputId": "11be1ff3-759a-48a6-ec26-52e3ddb7201e"
      },
      "source": [
        "img = plt.imread(testing_covid_img)\n",
        "plt.imshow(img)"
      ],
      "execution_count": null,
      "outputs": [
        {
          "output_type": "execute_result",
          "data": {
            "text/plain": [
              "<matplotlib.image.AxesImage at 0x7fe946ed63c8>"
            ]
          },
          "metadata": {
            "tags": []
          },
          "execution_count": 87
        },
        {
          "output_type": "display_data",
          "data": {
            "image/png": "[encoded data removed]",
            "text/plain": [
              "<Figure size 432x288 with 1 Axes>"
            ]
          },
          "metadata": {
            "tags": [],
            "needs_background": "light"
          }
        }
      ]
    },
    {
      "cell_type": "code",
      "metadata": {
        "colab": {
          "base_uri": "https://localhost:8080/"
        },
        "id": "OvDirT0NWzyp",
        "outputId": "801b96e0-e9e7-4eca-951f-eb76d6aabc75"
      },
      "source": [
        "img.shape"
      ],
      "execution_count": null,
      "outputs": [
        {
          "output_type": "execute_result",
          "data": {
            "text/plain": [
              "(1024, 1024)"
            ]
          },
          "metadata": {
            "tags": []
          },
          "execution_count": 88
        }
      ]
    },
    {
      "cell_type": "code",
      "metadata": {
        "id": "GpK7VM8YW4Of"
      },
      "source": [
        "from tensorflow.keras.preprocessing import image\n",
        "from PIL import Image\n",
        "\n",
        "img_path = testing_covid_img\n",
        "img = image.load_img(img_path, target_size=(IMG_SIZE1, IMG_SIZE1))\n",
        "x = image.img_to_array(img)\n",
        "x = np.expand_dims(x, axis=0)"
      ],
      "execution_count": null,
      "outputs": []
    },
    {
      "cell_type": "code",
      "metadata": {
        "colab": {
          "base_uri": "https://localhost:8080/"
        },
        "id": "5ExIu0vxXMUP",
        "outputId": "b28793b8-a5f0-46c1-9b8c-3bf0dd79eec5"
      },
      "source": [
        "covid_model.predict(x)"
      ],
      "execution_count": null,
      "outputs": [
        {
          "output_type": "execute_result",
          "data": {
            "text/plain": [
              "array([[1., 0., 0.]], dtype=float32)"
            ]
          },
          "metadata": {
            "tags": []
          },
          "execution_count": 90
        }
      ]
    },
    {
      "cell_type": "code",
      "metadata": {
        "id": "WlTmwutnZMB5"
      },
      "source": [
        ""
      ],
      "execution_count": null,
      "outputs": []
    },
    {
      "cell_type": "code",
      "metadata": {
        "id": "aldbD8EgZMUs"
      },
      "source": [
        ""
      ],
      "execution_count": null,
      "outputs": []
    },
    {
      "cell_type": "code",
      "metadata": {
        "colab": {
          "base_uri": "https://localhost:8080/",
          "height": 298
        },
        "id": "aLiP0Lj-27yB",
        "outputId": "5bbe3893-7d3a-45c2-a8f9-74144838df79"
      },
      "source": [
        "%matplotlib inline\n",
        "import matplotlib.pyplot as plt\n",
        "acc = history.history['accuracy']\n",
        "val_acc = history.history['val_accuracy']\n",
        "loss = history.history['loss']\n",
        "val_loss = history.history['val_loss']\n",
        "\n",
        "epochs = range(len(acc))\n",
        "\n",
        "plt.plot(epochs, acc, 'r', label='Training accuracy')\n",
        "plt.plot(epochs, val_acc, 'b', label='Validation accuracy')\n",
        "plt.title('Training and validation accuracy')\n",
        "plt.legend(loc=0)\n",
        "plt.figure()\n",
        "\n",
        "\n",
        "plt.show()"
      ],
      "execution_count": null,
      "outputs": [
        {
          "output_type": "display_data",
          "data": {
            "image/png": "[encoded data removed]",
            "text/plain": [
              "<Figure size 432x288 with 1 Axes>"
            ]
          },
          "metadata": {
            "tags": [],
            "needs_background": "light"
          }
        },
        {
          "output_type": "display_data",
          "data": {
            "text/plain": [
              "<Figure size 432x288 with 0 Axes>"
            ]
          },
          "metadata": {
            "tags": []
          }
        }
      ]
    },
    {
      "cell_type": "code",
      "metadata": {
        "colab": {
          "base_uri": "https://localhost:8080/",
          "height": 298
        },
        "id": "jnLuRaNC5D1x",
        "outputId": "7ccc0b93-b325-45dc-d379-16a26521ad77"
      },
      "source": [
        "plt.plot(epochs, loss, 'r', label='Training loss')\n",
        "plt.plot(epochs, val_loss, 'b', label='Validation loss')\n",
        "plt.title('Training and validation accuracy')\n",
        "plt.legend(loc=0)\n",
        "plt.figure()\n",
        "\n",
        "\n",
        "plt.show()"
      ],
      "execution_count": null,
      "outputs": [
        {
          "output_type": "display_data",
          "data": {
            "image/png": "[encoded data removed]",
            "text/plain": [
              "<Figure size 432x288 with 1 Axes>"
            ]
          },
          "metadata": {
            "tags": [],
            "needs_background": "light"
          }
        },
        {
          "output_type": "display_data",
          "data": {
            "text/plain": [
              "<Figure size 432x288 with 0 Axes>"
            ]
          },
          "metadata": {
            "tags": []
          }
        }
      ]
    },
    {
      "cell_type": "code",
      "metadata": {
        "colab": {
          "base_uri": "https://localhost:8080/"
        },
        "id": "Q51-aif25Ywl",
        "outputId": "b334e8bb-3f57-47d9-88c5-91627c934534"
      },
      "source": [
        "covid_model.evaluate(validation_generator, return_dict=True)"
      ],
      "execution_count": null,
      "outputs": [
        {
          "output_type": "stream",
          "text": [
            "15/15 [==============================] - 2s 130ms/step - loss: 0.1741 - accuracy: 0.9556\n"
          ],
          "name": "stdout"
        },
        {
          "output_type": "execute_result",
          "data": {
            "text/plain": [
              "{'accuracy': 0.9555555582046509, 'loss': 0.1741386353969574}"
            ]
          },
          "metadata": {
            "tags": []
          },
          "execution_count": 27
        }
      ]
    },
    {
      "cell_type": "code",
      "metadata": {
        "colab": {
          "base_uri": "https://localhost:8080/"
        },
        "id": "34rn6Rn6C_wo",
        "outputId": "860a96be-4e07-4e89-daff-4ec8236ff3ef"
      },
      "source": [
        "covid_model1 = Sequential()\n",
        "covid_model1.add(NASNetLarge_model())\n",
        "covid_model1.add(Dropout(0.3))\n",
        "covid_model1.add(Dense(512,activation='relu'))\n",
        "covid_model1.add(Dropout(0.3))\n",
        "covid_model1.add(Dense(64,activation='relu'))\n",
        "covid_model1.add(Dense(3,activation='softmax'))\n",
        "\n",
        "covid_model1.summary()"
      ],
      "execution_count": null,
      "outputs": [
        {
          "output_type": "stream",
          "text": [
            "Downloading data from https://storage.googleapis.com/tensorflow/keras-applications/nasnet/NASNet-large-no-top.h5\n",
            "343613440/343610240 [==============================] - 6s 0us/step\n",
            "Model: \"sequential_2\"\n",
            "_________________________________________________________________\n",
            "Layer (type)                 Output Shape              Param #   \n",
            "=================================================================\n",
            "functional_5 (Functional)    (None, 487872)            84916818  \n",
            "_________________________________________________________________\n",
            "dropout_4 (Dropout)          (None, 487872)            0         \n",
            "_________________________________________________________________\n",
            "dense_6 (Dense)              (None, 512)               249790976 \n",
            "_________________________________________________________________\n",
            "dropout_5 (Dropout)          (None, 512)               0         \n",
            "_________________________________________________________________\n",
            "dense_7 (Dense)              (None, 64)                32832     \n",
            "_________________________________________________________________\n",
            "dense_8 (Dense)              (None, 3)                 195       \n",
            "=================================================================\n",
            "Total params: 334,740,821\n",
            "Trainable params: 249,824,003\n",
            "Non-trainable params: 84,916,818\n",
            "_________________________________________________________________\n"
          ],
          "name": "stdout"
        }
      ]
    },
    {
      "cell_type": "code",
      "metadata": {
        "colab": {
          "base_uri": "https://localhost:8080/"
        },
        "id": "apdHl9WPFLiC",
        "outputId": "74f9f120-1484-4065-f0f0-f7fa9d4b843c"
      },
      "source": [
        "train_generator1 = train_datagen.flow_from_directory(train_dir,batch_size=BATCH_SIZE,class_mode='categorical',target_size=(IMG_SIZE2,IMG_SIZE2))\n",
        "\n",
        "validation_generator1 = test_datagen.flow_from_directory(test_dir,batch_size=BATCH_SIZE,class_mode='categorical',target_size=(IMG_SIZE2,IMG_SIZE2))"
      ],
      "execution_count": null,
      "outputs": [
        {
          "output_type": "stream",
          "text": [
            "Found 589 images belonging to 3 classes.\n",
            "Found 90 images belonging to 3 classes.\n"
          ],
          "name": "stdout"
        }
      ]
    },
    {
      "cell_type": "code",
      "metadata": {
        "colab": {
          "base_uri": "https://localhost:8080/"
        },
        "id": "3ObkdQa1E0VP",
        "outputId": "899d6066-7f77-4f5b-ab89-48c83b01dfe0"
      },
      "source": [
        "from tensorflow.keras.optimizers import Adam\n",
        "\n",
        "\n",
        "covid_model1.compile(loss='categorical_crossentropy',optimizer=OPTIMIZER,metrics=['accuracy'])\n",
        "\n",
        "history1 = covid_model1.fit(train_generator1,validation_data=validation_generator1,epochs=EPOCHS,callbacks=[callback])"
      ],
      "execution_count": null,
      "outputs": [
        {
          "output_type": "stream",
          "text": [
            "Epoch 1/20\n",
            "99/99 [==============================] - 38s 386ms/step - loss: 1.8669 - accuracy: 0.7963 - val_loss: 1.3661 - val_accuracy: 0.8444\n",
            "Epoch 2/20\n",
            "99/99 [==============================] - 34s 341ms/step - loss: 0.6835 - accuracy: 0.9032 - val_loss: 0.2835 - val_accuracy: 0.9222\n",
            "Epoch 3/20\n",
            "99/99 [==============================] - 34s 341ms/step - loss: 0.3734 - accuracy: 0.9440 - val_loss: 0.1991 - val_accuracy: 0.9333\n",
            "Epoch 4/20\n",
            "99/99 [==============================] - 34s 339ms/step - loss: 0.1864 - accuracy: 0.9610 - val_loss: 0.2116 - val_accuracy: 0.9444\n",
            "Epoch 5/20\n",
            "99/99 [==============================] - 33s 337ms/step - loss: 0.2140 - accuracy: 0.9610 - val_loss: 0.2423 - val_accuracy: 0.9444\n",
            "Epoch 6/20\n",
            "99/99 [==============================] - 34s 339ms/step - loss: 0.1296 - accuracy: 0.9660 - val_loss: 0.1350 - val_accuracy: 0.9556\n",
            "Epoch 7/20\n",
            "99/99 [==============================] - 33s 337ms/step - loss: 0.0754 - accuracy: 0.9779 - val_loss: 0.2194 - val_accuracy: 0.9444\n",
            "Epoch 8/20\n",
            "99/99 [==============================] - 33s 337ms/step - loss: 0.0432 - accuracy: 0.9881 - val_loss: 0.2001 - val_accuracy: 0.9556\n",
            "Epoch 9/20\n",
            "99/99 [==============================] - 34s 344ms/step - loss: 0.0322 - accuracy: 0.9915 - val_loss: 0.1262 - val_accuracy: 0.9667\n",
            "Epoch 10/20\n",
            "99/99 [==============================] - 34s 339ms/step - loss: 0.0177 - accuracy: 0.9915 - val_loss: 0.1975 - val_accuracy: 0.9556\n",
            "Epoch 11/20\n",
            "99/99 [==============================] - 34s 339ms/step - loss: 0.0210 - accuracy: 0.9881 - val_loss: 0.1689 - val_accuracy: 0.9778\n",
            "Epoch 12/20\n",
            "99/99 [==============================] - 33s 338ms/step - loss: 0.0421 - accuracy: 0.9847 - val_loss: 0.2271 - val_accuracy: 0.9667\n",
            "Epoch 13/20\n",
            "99/99 [==============================] - 33s 337ms/step - loss: 0.0597 - accuracy: 0.9779 - val_loss: 0.2552 - val_accuracy: 0.9667\n",
            "Epoch 14/20\n",
            "99/99 [==============================] - 33s 335ms/step - loss: 0.0547 - accuracy: 0.9915 - val_loss: 0.2693 - val_accuracy: 0.9556\n",
            "Epoch 15/20\n",
            "99/99 [==============================] - 33s 337ms/step - loss: 0.0370 - accuracy: 0.9881 - val_loss: 0.2819 - val_accuracy: 0.9667\n"
          ],
          "name": "stdout"
        }
      ]
    },
    {
      "cell_type": "code",
      "metadata": {
        "colab": {
          "base_uri": "https://localhost:8080/",
          "height": 298
        },
        "id": "OrX_3BusFSeN",
        "outputId": "2b2ecb9f-dc0c-45e3-8260-6807454a79e7"
      },
      "source": [
        "%matplotlib inline\n",
        "import matplotlib.pyplot as plt\n",
        "acc = history1.history['accuracy']\n",
        "val_acc = history1.history['val_accuracy']\n",
        "loss = history1.history['loss']\n",
        "val_loss = history1.history['val_loss']\n",
        "\n",
        "epochs = range(len(acc))\n",
        "\n",
        "plt.plot(epochs, acc, 'r', label='Training accuracy')\n",
        "plt.plot(epochs, val_acc, 'b', label='Validation accuracy')\n",
        "plt.title('Training and validation accuracy')\n",
        "plt.legend(loc=0)\n",
        "plt.figure()\n",
        "\n",
        "\n",
        "plt.show()"
      ],
      "execution_count": null,
      "outputs": [
        {
          "output_type": "display_data",
          "data": {
            "image/png": "[encoded data removed]",
            "text/plain": [
              "<Figure size 432x288 with 1 Axes>"
            ]
          },
          "metadata": {
            "tags": [],
            "needs_background": "light"
          }
        },
        {
          "output_type": "display_data",
          "data": {
            "text/plain": [
              "<Figure size 432x288 with 0 Axes>"
            ]
          },
          "metadata": {
            "tags": []
          }
        }
      ]
    },
    {
      "cell_type": "code",
      "metadata": {
        "colab": {
          "base_uri": "https://localhost:8080/",
          "height": 298
        },
        "id": "MqXivi9nIFhS",
        "outputId": "50daec13-e819-4895-a385-d65756fc8481"
      },
      "source": [
        "plt.plot(epochs, loss, 'r', label='Training loss')\n",
        "plt.plot(epochs, val_loss, 'b', label='Validation loss')\n",
        "plt.title('Training and validation accuracy')\n",
        "plt.legend(loc=0)\n",
        "plt.figure()\n",
        "\n",
        "\n",
        "plt.show()"
      ],
      "execution_count": null,
      "outputs": [
        {
          "output_type": "display_data",
          "data": {
            "image/png": "[encoded data removed]",
            "text/plain": [
              "<Figure size 432x288 with 1 Axes>"
            ]
          },
          "metadata": {
            "tags": [],
            "needs_background": "light"
          }
        },
        {
          "output_type": "display_data",
          "data": {
            "text/plain": [
              "<Figure size 432x288 with 0 Axes>"
            ]
          },
          "metadata": {
            "tags": []
          }
        }
      ]
    },
    {
      "cell_type": "code",
      "metadata": {
        "id": "QKDMP4lBImCD"
      },
      "source": [
        "from tensorflow.keras.applications import VGG16"
      ],
      "execution_count": null,
      "outputs": []
    },
    {
      "cell_type": "code",
      "metadata": {
        "id": "Crc842aCInZy"
      },
      "source": [
        "def VGG16_model():\n",
        "    base_model = VGG16(include_top=False, weights='imagenet', input_shape=(IMG_SIZE3, IMG_SIZE3, 3))\n",
        "    \n",
        "    output = base_model.layers[-1].output\n",
        "    output = Flatten()(output)\n",
        "    \n",
        "    model = Model(base_model.input, outputs=output)\n",
        "    \n",
        "    for layer in model.layers:\n",
        "        layer.trainable = False\n",
        "    \n",
        "    return model"
      ],
      "execution_count": null,
      "outputs": []
    },
    {
      "cell_type": "code",
      "metadata": {
        "colab": {
          "base_uri": "https://localhost:8080/"
        },
        "id": "uIDUhkqfI0DN",
        "outputId": "e76525b2-fcd2-4bdb-a157-4abd18165eca"
      },
      "source": [
        "covid_model2 = Sequential()\n",
        "covid_model2.add(VGG16_model())\n",
        "covid_model2.add(Dropout(0.25))\n",
        "covid_model2.add(Dense(512, activation='relu'))\n",
        "covid_model2.add(Dropout(0.25))\n",
        "covid_model2.add(Dense(64, activation='relu'))\n",
        "covid_model2.add(Dense(3, activation='sigmoid'))\n",
        "\n",
        "covid_model2.summary()"
      ],
      "execution_count": null,
      "outputs": [
        {
          "output_type": "stream",
          "text": [
            "Downloading data from https://storage.googleapis.com/tensorflow/keras-applications/vgg16/vgg16_weights_tf_dim_ordering_tf_kernels_notop.h5\n",
            "58892288/58889256 [==============================] - 0s 0us/step\n",
            "Model: \"sequential_3\"\n",
            "_________________________________________________________________\n",
            "Layer (type)                 Output Shape              Param #   \n",
            "=================================================================\n",
            "functional_7 (Functional)    (None, 25088)             14714688  \n",
            "_________________________________________________________________\n",
            "dropout_6 (Dropout)          (None, 25088)             0         \n",
            "_________________________________________________________________\n",
            "dense_9 (Dense)              (None, 512)               12845568  \n",
            "_________________________________________________________________\n",
            "dropout_7 (Dropout)          (None, 512)               0         \n",
            "_________________________________________________________________\n",
            "dense_10 (Dense)             (None, 64)                32832     \n",
            "_________________________________________________________________\n",
            "dense_11 (Dense)             (None, 3)                 195       \n",
            "=================================================================\n",
            "Total params: 27,593,283\n",
            "Trainable params: 12,878,595\n",
            "Non-trainable params: 14,714,688\n",
            "_________________________________________________________________\n"
          ],
          "name": "stdout"
        }
      ]
    },
    {
      "cell_type": "code",
      "metadata": {
        "colab": {
          "base_uri": "https://localhost:8080/"
        },
        "id": "Yf76rbDYJBwV",
        "outputId": "02a1106a-58ee-43ef-d8df-7556091a5310"
      },
      "source": [
        "train_generator2 = train_datagen.flow_from_directory(train_dir,batch_size=BATCH_SIZE,class_mode='categorical',target_size=(IMG_SIZE3,IMG_SIZE3))\n",
        "\n",
        "validation_generator2 = test_datagen.flow_from_directory(test_dir,batch_size=BATCH_SIZE,class_mode='categorical',target_size=(IMG_SIZE3,IMG_SIZE3))"
      ],
      "execution_count": null,
      "outputs": [
        {
          "output_type": "stream",
          "text": [
            "Found 589 images belonging to 3 classes.\n",
            "Found 90 images belonging to 3 classes.\n"
          ],
          "name": "stdout"
        }
      ]
    },
    {
      "cell_type": "code",
      "metadata": {
        "colab": {
          "base_uri": "https://localhost:8080/"
        },
        "id": "T7FJDJM5I8td",
        "outputId": "e0a750f5-e1b9-4758-ebba-d67bd29e4e27"
      },
      "source": [
        "from tensorflow.keras.optimizers import Adam\n",
        "\n",
        "covid_model2.compile(loss='categorical_crossentropy',optimizer=OPTIMIZER,metrics=['accuracy'])\n",
        "\n",
        "history2 = covid_model2.fit(train_generator2,validation_data=validation_generator2,epochs=EPOCHS,callbacks=[callback])"
      ],
      "execution_count": null,
      "outputs": [
        {
          "output_type": "stream",
          "text": [
            "Epoch 1/20\n",
            "99/99 [==============================] - 19s 195ms/step - loss: 0.5587 - accuracy: 0.7317 - val_loss: 0.3039 - val_accuracy: 0.8667\n",
            "Epoch 2/20\n",
            "99/99 [==============================] - 19s 195ms/step - loss: 0.2105 - accuracy: 0.9304 - val_loss: 0.2013 - val_accuracy: 0.9333\n",
            "Epoch 3/20\n",
            "99/99 [==============================] - 19s 196ms/step - loss: 0.1637 - accuracy: 0.9474 - val_loss: 0.1815 - val_accuracy: 0.9444\n",
            "Epoch 4/20\n",
            "99/99 [==============================] - 19s 195ms/step - loss: 0.1305 - accuracy: 0.9559 - val_loss: 0.1315 - val_accuracy: 0.9333\n",
            "Epoch 5/20\n",
            "99/99 [==============================] - 19s 197ms/step - loss: 0.1007 - accuracy: 0.9660 - val_loss: 0.1053 - val_accuracy: 0.9556\n",
            "Epoch 6/20\n",
            "99/99 [==============================] - 19s 194ms/step - loss: 0.0857 - accuracy: 0.9694 - val_loss: 0.1746 - val_accuracy: 0.9222\n",
            "Epoch 7/20\n",
            "99/99 [==============================] - 19s 196ms/step - loss: 0.0983 - accuracy: 0.9745 - val_loss: 0.1433 - val_accuracy: 0.9222\n",
            "Epoch 8/20\n",
            "99/99 [==============================] - 19s 196ms/step - loss: 0.0929 - accuracy: 0.9694 - val_loss: 0.1011 - val_accuracy: 0.9667\n",
            "Epoch 9/20\n",
            "99/99 [==============================] - 19s 193ms/step - loss: 0.0681 - accuracy: 0.9779 - val_loss: 0.2330 - val_accuracy: 0.9333\n",
            "Epoch 10/20\n",
            "99/99 [==============================] - 19s 194ms/step - loss: 0.0629 - accuracy: 0.9796 - val_loss: 0.1323 - val_accuracy: 0.9444\n",
            "Epoch 11/20\n",
            "99/99 [==============================] - 19s 197ms/step - loss: 0.0667 - accuracy: 0.9762 - val_loss: 0.1000 - val_accuracy: 0.9556\n",
            "Epoch 12/20\n",
            "99/99 [==============================] - 19s 194ms/step - loss: 0.0516 - accuracy: 0.9813 - val_loss: 0.0936 - val_accuracy: 0.9556\n"
          ],
          "name": "stdout"
        }
      ]
    },
    {
      "cell_type": "code",
      "metadata": {
        "colab": {
          "base_uri": "https://localhost:8080/",
          "height": 298
        },
        "id": "3Sj1_ISyJOci",
        "outputId": "d0442bf3-f582-4dc5-db3a-29105f1cea6e"
      },
      "source": [
        "%matplotlib inline\n",
        "import matplotlib.pyplot as plt\n",
        "acc = history2.history['accuracy']\n",
        "val_acc = history2.history['val_accuracy']\n",
        "loss = history2.history['loss']\n",
        "val_loss = history2.history['val_loss']\n",
        "\n",
        "epochs = range(len(acc))\n",
        "\n",
        "plt.plot(epochs, acc, 'r', label='Training accuracy')\n",
        "plt.plot(epochs, val_acc, 'b', label='Validation accuracy')\n",
        "plt.title('Training and validation accuracy')\n",
        "plt.legend(loc=0)\n",
        "plt.figure()\n",
        "\n",
        "\n",
        "plt.show()"
      ],
      "execution_count": null,
      "outputs": [
        {
          "output_type": "display_data",
          "data": {
            "image/png": "[encoded data removed]",
            "text/plain": [
              "<Figure size 432x288 with 1 Axes>"
            ]
          },
          "metadata": {
            "tags": [],
            "needs_background": "light"
          }
        },
        {
          "output_type": "display_data",
          "data": {
            "text/plain": [
              "<Figure size 432x288 with 0 Axes>"
            ]
          },
          "metadata": {
            "tags": []
          }
        }
      ]
    },
    {
      "cell_type": "code",
      "metadata": {
        "colab": {
          "base_uri": "https://localhost:8080/",
          "height": 298
        },
        "id": "AFA1R7xHJTOs",
        "outputId": "1b5cf5a8-a610-435d-8f6b-6428785acb10"
      },
      "source": [
        "plt.plot(epochs, loss, 'r', label='Training loss')\n",
        "plt.plot(epochs, val_loss, 'b', label='Validation loss')\n",
        "plt.title('Training and validation accuracy')\n",
        "plt.legend(loc=0)\n",
        "plt.figure()\n",
        "\n",
        "\n",
        "plt.show()"
      ],
      "execution_count": null,
      "outputs": [
        {
          "output_type": "display_data",
          "data": {
            "image/png": "[encoded data removed]",
            "text/plain": [
              "<Figure size 432x288 with 1 Axes>"
            ]
          },
          "metadata": {
            "tags": [],
            "needs_background": "light"
          }
        },
        {
          "output_type": "display_data",
          "data": {
            "text/plain": [
              "<Figure size 432x288 with 0 Axes>"
            ]
          },
          "metadata": {
            "tags": []
          }
        }
      ]
    },
    {
      "cell_type": "code",
      "metadata": {
        "id": "Oce0gb0CNDg0"
      },
      "source": [
        ""
      ],
      "execution_count": null,
      "outputs": []
    }
  ]
}