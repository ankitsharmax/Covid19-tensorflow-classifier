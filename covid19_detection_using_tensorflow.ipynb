{
 "cells": [
  {
   "cell_type": "markdown",
   "metadata": {},
   "source": [
    "## Importing libraries"
   ]
  },
  {
   "cell_type": "code",
   "execution_count": 1,
   "metadata": {},
   "outputs": [],
   "source": [
    "# Removing warnings\n",
    "import warnings\n",
    "warnings.filterwarnings('ignore')\n",
    "\n",
    "# Removing unwanted tensorflow logs\n",
    "import os\n",
    "os.environ['TF_CPP_MIN_LOG_LEVEL'] = '3'\n",
    "\n",
    "import numpy as np\n",
    "import pandas as pd\n",
    "import matplotlib.pyplot as plt\n",
    "import seaborn as sns\n",
    "import tensorflow as tf\n",
    "tf.__version__\n",
    "\n",
    "%matplotlib inline"
   ]
  },
  {
   "cell_type": "markdown",
   "metadata": {},
   "source": [
    "## Importing trianing data"
   ]
  },
  {
   "cell_type": "code",
   "execution_count": 2,
   "metadata": {},
   "outputs": [
    {
     "name": "stdout",
     "output_type": "stream",
     "text": [
      " Volume in drive D is Ezio\n",
      " Volume Serial Number is B48E-772E\n",
      "\n",
      " Directory of D:\\Projects\\Covid 19 using chest x-rays --- PyTorch\\Project Making\n",
      "\n",
      "14-11-2020  20:32    <DIR>          .\n",
      "14-11-2020  20:32    <DIR>          ..\n",
      "14-11-2020  19:39    <DIR>          .ipynb_checkpoints\n",
      "14-11-2020  20:32             5,624 covid19_detection_using_tensorflow.ipynb\n",
      "14-11-2020  19:37    <DIR>          test\n",
      "14-11-2020  19:37    <DIR>          train\n",
      "               1 File(s)          5,624 bytes\n",
      "               5 Dir(s)  123,486,818,304 bytes free\n"
     ]
    }
   ],
   "source": [
    "!dir"
   ]
  },
  {
   "cell_type": "code",
   "execution_count": 3,
   "metadata": {},
   "outputs": [
    {
     "data": {
      "text/plain": [
       "['covid', 'normal', 'viral']"
      ]
     },
     "execution_count": 3,
     "metadata": {},
     "output_type": "execute_result"
    }
   ],
   "source": [
    "os.listdir('train')"
   ]
  },
  {
   "cell_type": "code",
   "execution_count": 4,
   "metadata": {},
   "outputs": [
    {
     "name": "stdout",
     "output_type": "stream",
     "text": [
      "189\n",
      "200\n",
      "200\n"
     ]
    }
   ],
   "source": [
    "training_covid_dir = \"train/covid/\"\n",
    "training_normal_dir = \"train/normal/\"\n",
    "training_viral_dir = \"train/viral/\"\n",
    "\n",
    "print(len(os.listdir(training_covid_dir)))\n",
    "print(len(os.listdir(training_normal_dir)))\n",
    "print(len(os.listdir(training_viral_dir)))"
   ]
  },
  {
   "cell_type": "markdown",
   "metadata": {},
   "source": [
    "## Importing test data"
   ]
  },
  {
   "cell_type": "code",
   "execution_count": 5,
   "metadata": {},
   "outputs": [
    {
     "data": {
      "text/plain": [
       "['covid', 'normal', 'viral']"
      ]
     },
     "execution_count": 5,
     "metadata": {},
     "output_type": "execute_result"
    }
   ],
   "source": [
    "os.listdir('test')"
   ]
  },
  {
   "cell_type": "code",
   "execution_count": 6,
   "metadata": {},
   "outputs": [
    {
     "name": "stdout",
     "output_type": "stream",
     "text": [
      "30\n",
      "30\n",
      "30\n"
     ]
    }
   ],
   "source": [
    "testing_covid_dir = \"test/covid/\"\n",
    "testing_normal_dir = \"test/normal/\"\n",
    "testing_viral_dir = \"test/viral/\"\n",
    "\n",
    "print(len(os.listdir(testing_covid_dir)))\n",
    "print(len(os.listdir(testing_normal_dir)))\n",
    "print(len(os.listdir(testing_viral_dir)))"
   ]
  },
  {
   "cell_type": "markdown",
   "metadata": {},
   "source": [
    "## Defining model structure"
   ]
  },
  {
   "cell_type": "code",
   "execution_count": 7,
   "metadata": {},
   "outputs": [],
   "source": [
    "from tensorflow.keras.models import Sequential\n",
    "from tensorflow.keras.layers import Conv2D, Dense, MaxPooling2D, Flatten, Dropout, BatchNormalization"
   ]
  },
  {
   "cell_type": "code",
   "execution_count": null,
   "metadata": {},
   "outputs": [],
   "source": [
    "import keras\n",
    "from tf.keras.applications import InceptionResNetV2"
   ]
  },
  {
   "cell_type": "code",
   "execution_count": 22,
   "metadata": {},
   "outputs": [],
   "source": [
    "model = Sequential([\n",
    "    Conv2D(32,(3,3), activation='relu',input_shape=(150,150,3)),\n",
    "    MaxPooling2D(2,2),\n",
    "    Conv2D(64,(3,3),activation='relu'),\n",
    "    MaxPooling2D(2,2),\n",
    "    Conv2D(128,(3,3), activation='relu'),\n",
    "    MaxPooling2D(2,2),\n",
    "    Flatten(),\n",
    "    Dense(1024, activation='relu'),\n",
    "    Dense(1024, activation ='relu'),\n",
    "    Dense(3, activation='softmax')\n",
    "])\n"
   ]
  },
  {
   "cell_type": "code",
   "execution_count": 23,
   "metadata": {},
   "outputs": [
    {
     "name": "stdout",
     "output_type": "stream",
     "text": [
      "Model: \"sequential_6\"\n",
      "_________________________________________________________________\n",
      "Layer (type)                 Output Shape              Param #   \n",
      "=================================================================\n",
      "conv2d_17 (Conv2D)           (None, 148, 148, 32)      896       \n",
      "_________________________________________________________________\n",
      "max_pooling2d_12 (MaxPooling (None, 74, 74, 32)        0         \n",
      "_________________________________________________________________\n",
      "conv2d_18 (Conv2D)           (None, 72, 72, 64)        18496     \n",
      "_________________________________________________________________\n",
      "max_pooling2d_13 (MaxPooling (None, 36, 36, 64)        0         \n",
      "_________________________________________________________________\n",
      "conv2d_19 (Conv2D)           (None, 34, 34, 128)       73856     \n",
      "_________________________________________________________________\n",
      "max_pooling2d_14 (MaxPooling (None, 17, 17, 128)       0         \n",
      "_________________________________________________________________\n",
      "flatten_6 (Flatten)          (None, 36992)             0         \n",
      "_________________________________________________________________\n",
      "dense_15 (Dense)             (None, 1024)              37880832  \n",
      "_________________________________________________________________\n",
      "dense_16 (Dense)             (None, 1024)              1049600   \n",
      "_________________________________________________________________\n",
      "dense_17 (Dense)             (None, 3)                 3075      \n",
      "=================================================================\n",
      "Total params: 39,026,755\n",
      "Trainable params: 39,026,755\n",
      "Non-trainable params: 0\n",
      "_________________________________________________________________\n"
     ]
    }
   ],
   "source": [
    "model.summary()"
   ]
  },
  {
   "cell_type": "code",
   "execution_count": 27,
   "metadata": {},
   "outputs": [],
   "source": [
    "model.compile(\n",
    "    optimizer='Adam',\n",
    "    loss=tf.keras.losses.sparse_categorical_crossentropy,\n",
    "    metrics=['accuracy']\n",
    ")"
   ]
  },
  {
   "cell_type": "code",
   "execution_count": 28,
   "metadata": {},
   "outputs": [],
   "source": [
    "from tensorflow.keras.preprocessing.image import ImageDataGenerator"
   ]
  },
  {
   "cell_type": "code",
   "execution_count": 29,
   "metadata": {},
   "outputs": [
    {
     "name": "stdout",
     "output_type": "stream",
     "text": [
      "Found 589 images belonging to 3 classes.\n"
     ]
    }
   ],
   "source": [
    "TRAINING_DIR = \"train/\"\n",
    "\n",
    "train_datagen = ImageDataGenerator(rescale=1./255)\n",
    "train_generator = train_datagen.flow_from_directory(\n",
    "    TRAINING_DIR, batch_size = 10, class_mode = 'categorical', target_size = (150,150)\n",
    ")"
   ]
  },
  {
   "cell_type": "code",
   "execution_count": 34,
   "metadata": {},
   "outputs": [
    {
     "name": "stdout",
     "output_type": "stream",
     "text": [
      "Found 90 images belonging to 3 classes.\n"
     ]
    }
   ],
   "source": [
    "VALIDATION_DIR = \"test/\"\n",
    "validation_datagen = ImageDataGenerator(rescale=1./255)\n",
    "validation_generator = validation_datagen.flow_from_directory(\n",
    "    VALIDATION_DIR, batch_size = 10, class_mode = 'categorical', target_size = (150,150)\n",
    ")"
   ]
  },
  {
   "cell_type": "code",
   "execution_count": 36,
   "metadata": {},
   "outputs": [
    {
     "name": "stdout",
     "output_type": "stream",
     "text": [
      "Epoch 1/15\n",
      "59/59 [==============================] - 55s 928ms/step - loss: 0.9887 - acc: 0.6350 - val_loss: 0.3730 - val_acc: 0.8444\n",
      "Epoch 2/15\n",
      "59/59 [==============================] - 27s 456ms/step - loss: 0.3457 - acc: 0.8591 - val_loss: 0.3371 - val_acc: 0.8778\n",
      "Epoch 3/15\n",
      "59/59 [==============================] - 28s 481ms/step - loss: 0.2022 - acc: 0.9304 - val_loss: 0.2910 - val_acc: 0.8667\n",
      "Epoch 4/15\n",
      "59/59 [==============================] - 29s 497ms/step - loss: 0.1438 - acc: 0.9406 - val_loss: 0.7501 - val_acc: 0.8556\n",
      "Epoch 5/15\n",
      "59/59 [==============================] - 29s 490ms/step - loss: 0.2955 - acc: 0.8981 - val_loss: 0.3189 - val_acc: 0.8889\n",
      "Epoch 6/15\n",
      "59/59 [==============================] - 29s 495ms/step - loss: 0.1709 - acc: 0.9338 - val_loss: 0.2988 - val_acc: 0.8667\n",
      "Epoch 7/15\n",
      "59/59 [==============================] - 29s 498ms/step - loss: 0.0519 - acc: 0.9864 - val_loss: 0.3162 - val_acc: 0.9111\n",
      "Epoch 8/15\n",
      "59/59 [==============================] - 29s 487ms/step - loss: 0.0551 - acc: 0.9745 - val_loss: 0.4709 - val_acc: 0.8556\n",
      "Epoch 9/15\n",
      "59/59 [==============================] - 29s 492ms/step - loss: 0.0539 - acc: 0.9779 - val_loss: 0.7677 - val_acc: 0.8333\n",
      "Epoch 10/15\n",
      "59/59 [==============================] - 30s 501ms/step - loss: 0.0389 - acc: 0.9898 - val_loss: 0.2443 - val_acc: 0.9111\n",
      "Epoch 11/15\n",
      "59/59 [==============================] - 28s 477ms/step - loss: 0.1901 - acc: 0.9491 - val_loss: 0.2038 - val_acc: 0.9111\n",
      "Epoch 12/15\n",
      "59/59 [==============================] - 28s 475ms/step - loss: 0.0577 - acc: 0.9830 - val_loss: 0.2713 - val_acc: 0.9222\n",
      "Epoch 13/15\n",
      "59/59 [==============================] - 27s 458ms/step - loss: 0.0991 - acc: 0.9677 - val_loss: 0.5459 - val_acc: 0.9000\n",
      "Epoch 14/15\n",
      "59/59 [==============================] - 27s 466ms/step - loss: 0.0448 - acc: 0.9881 - val_loss: 0.3830 - val_acc: 0.9111\n",
      "Epoch 15/15\n",
      "59/59 [==============================] - 28s 475ms/step - loss: 0.0443 - acc: 0.9864 - val_loss: 0.3442 - val_acc: 0.9111\n"
     ]
    }
   ],
   "source": [
    "history = model.fit(train_generator,\n",
    "                              epochs=15,\n",
    "                              validation_data=validation_generator)"
   ]
  },
  {
   "cell_type": "code",
   "execution_count": 40,
   "metadata": {},
   "outputs": [
    {
     "data": {
      "text/plain": [
       "Text(0.5, 1.0, 'Training and validation loss')"
      ]
     },
     "execution_count": 40,
     "metadata": {},
     "output_type": "execute_result"
    },
    {
     "data": {
      "image/png": "[encoded data removed]",
      "text/plain": [
       "<Figure size 432x288 with 1 Axes>"
      ]
     },
     "metadata": {
      "needs_background": "light"
     },
     "output_type": "display_data"
    },
    {
     "data": {
      "image/png": "[encoded data removed]",
      "text/plain": [
       "<Figure size 432x288 with 1 Axes>"
      ]
     },
     "metadata": {
      "needs_background": "light"
     },
     "output_type": "display_data"
    }
   ],
   "source": [
    "# PLOT LOSS AND ACCURACY\n",
    "%matplotlib inline\n",
    "\n",
    "import matplotlib.image  as mpimg\n",
    "import matplotlib.pyplot as plt\n",
    "\n",
    "#-----------------------------------------------------------\n",
    "# Retrieve a list of list results on training and test data\n",
    "# sets for each training epoch\n",
    "#-----------------------------------------------------------\n",
    "acc=history.history['acc']\n",
    "val_acc=history.history['val_acc']\n",
    "loss=history.history['loss']\n",
    "val_loss=history.history['val_loss']\n",
    "\n",
    "epochs=range(len(acc)) # Get number of epochs\n",
    "\n",
    "#------------------------------------------------\n",
    "# Plot training and validation accuracy per epoch\n",
    "#------------------------------------------------\n",
    "plt.plot(epochs, acc, 'r', \"Training Accuracy\")\n",
    "plt.plot(epochs, val_acc, 'b', \"Validation Accuracy\")\n",
    "plt.title('Training and validation accuracy')\n",
    "plt.figure()\n",
    "\n",
    "#------------------------------------------------\n",
    "# Plot training and validation loss per epoch\n",
    "#------------------------------------------------\n",
    "plt.plot(epochs, loss, 'r', \"Training Loss\")\n",
    "plt.plot(epochs, val_loss, 'b', \"Validation Loss\")\n",
    "\n",
    "\n",
    "plt.title('Training and validation loss')"
   ]
  }
 ],
 "metadata": {
  "kernelspec": {
   "display_name": "Python 3",
   "language": "python",
   "name": "python3"
  },
  "language_info": {
   "codemirror_mode": {
    "name": "ipython",
    "version": 3
   },
   "file_extension": ".py",
   "mimetype": "text/x-python",
   "name": "python",
   "nbconvert_exporter": "python",
   "pygments_lexer": "ipython3",
   "version": "3.7.4"
  },
  "latex_envs": {
   "LaTeX_envs_menu_present": true,
   "autoclose": false,
   "autocomplete": true,
   "bibliofile": "biblio.bib",
   "cite_by": "apalike",
   "current_citInitial": 1,
   "eqLabelWithNumbers": true,
   "eqNumInitial": 1,
   "hotkeys": {
    "equation": "Ctrl-E",
    "itemize": "Ctrl-I"
   },
   "labels_anchors": false,
   "latex_user_defs": false,
   "report_style_numbering": false,
   "user_envs_cfg": false
  },
  "varInspector": {
   "cols": {
    "lenName": 16,
    "lenType": 16,
    "lenVar": 40
   },
   "kernels_config": {
    "python": {
     "delete_cmd_postfix": "",
     "delete_cmd_prefix": "del ",
     "library": "var_list.py",
     "varRefreshCmd": "print(var_dic_list())"
    },
    "r": {
     "delete_cmd_postfix": ") ",
     "delete_cmd_prefix": "rm(",
     "library": "var_list.r",
     "varRefreshCmd": "cat(var_dic_list()) "
    }
   },
   "types_to_exclude": [
    "module",
    "function",
    "builtin_function_or_method",
    "instance",
    "_Feature"
   ],
   "window_display": false
  }
 },
 "nbformat": 4,
 "nbformat_minor": 4
}
